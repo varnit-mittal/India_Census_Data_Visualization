{
 "cells": [
  {
   "cell_type": "code",
   "execution_count": 1,
   "metadata": {},
   "outputs": [],
   "source": [
    "import pandas as pd\n",
    "import matplotlib.pyplot as plt\n",
    "import seaborn as sns\n",
    "from sklearn.tree import DecisionTreeClassifier\n",
    "from sklearn.preprocessing import LabelEncoder"
   ]
  },
  {
   "cell_type": "code",
   "execution_count": null,
   "metadata": {},
   "outputs": [],
   "source": [
    "path=\"../Dataset/literacy.xlsx\"\n",
    "data=pd.read_excel(path)"
   ]
  },
  {
   "cell_type": "code",
   "execution_count": 3,
   "metadata": {},
   "outputs": [
    {
     "data": {
      "text/html": [
       "<div>\n",
       "<style scoped>\n",
       "    .dataframe tbody tr th:only-of-type {\n",
       "        vertical-align: middle;\n",
       "    }\n",
       "\n",
       "    .dataframe tbody tr th {\n",
       "        vertical-align: top;\n",
       "    }\n",
       "\n",
       "    .dataframe thead th {\n",
       "        text-align: right;\n",
       "    }\n",
       "</style>\n",
       "<table border=\"1\" class=\"dataframe\">\n",
       "  <thead>\n",
       "    <tr style=\"text-align: right;\">\n",
       "      <th></th>\n",
       "      <th>Area Name</th>\n",
       "      <th>Religion</th>\n",
       "      <th>Number of literates</th>\n",
       "      <th>Division</th>\n",
       "      <th>Male Head</th>\n",
       "      <th>Female Head</th>\n",
       "      <th>1</th>\n",
       "      <th>2</th>\n",
       "      <th>3</th>\n",
       "      <th>4</th>\n",
       "      <th>5</th>\n",
       "      <th>6</th>\n",
       "      <th>7</th>\n",
       "    </tr>\n",
       "  </thead>\n",
       "  <tbody>\n",
       "    <tr>\n",
       "      <th>0</th>\n",
       "      <td>INDIA</td>\n",
       "      <td>All Religious communities</td>\n",
       "      <td>Total</td>\n",
       "      <td>TOTAL</td>\n",
       "      <td>173131502</td>\n",
       "      <td>19987858</td>\n",
       "      <td>7645295</td>\n",
       "      <td>15926266</td>\n",
       "      <td>22534494</td>\n",
       "      <td>37090534</td>\n",
       "      <td>35930733</td>\n",
       "      <td>26187941</td>\n",
       "      <td>47804097</td>\n",
       "    </tr>\n",
       "    <tr>\n",
       "      <th>1</th>\n",
       "      <td>INDIA</td>\n",
       "      <td>All Religious communities</td>\n",
       "      <td>0</td>\n",
       "      <td>TOTAL</td>\n",
       "      <td>22603591</td>\n",
       "      <td>5197226</td>\n",
       "      <td>4312660</td>\n",
       "      <td>5578388</td>\n",
       "      <td>3823934</td>\n",
       "      <td>4178387</td>\n",
       "      <td>3542781</td>\n",
       "      <td>2503281</td>\n",
       "      <td>3861386</td>\n",
       "    </tr>\n",
       "    <tr>\n",
       "      <th>2</th>\n",
       "      <td>INDIA</td>\n",
       "      <td>All Religious communities</td>\n",
       "      <td>1</td>\n",
       "      <td>TOTAL</td>\n",
       "      <td>25222202</td>\n",
       "      <td>3793385</td>\n",
       "      <td>3332635</td>\n",
       "      <td>4938409</td>\n",
       "      <td>5113782</td>\n",
       "      <td>5109107</td>\n",
       "      <td>4189625</td>\n",
       "      <td>2721918</td>\n",
       "      <td>3610111</td>\n",
       "    </tr>\n",
       "    <tr>\n",
       "      <th>3</th>\n",
       "      <td>INDIA</td>\n",
       "      <td>All Religious communities</td>\n",
       "      <td>2</td>\n",
       "      <td>TOTAL</td>\n",
       "      <td>33076889</td>\n",
       "      <td>3519241</td>\n",
       "      <td>0</td>\n",
       "      <td>5409469</td>\n",
       "      <td>7810684</td>\n",
       "      <td>9117666</td>\n",
       "      <td>5935898</td>\n",
       "      <td>3676591</td>\n",
       "      <td>4645822</td>\n",
       "    </tr>\n",
       "    <tr>\n",
       "      <th>4</th>\n",
       "      <td>INDIA</td>\n",
       "      <td>All Religious communities</td>\n",
       "      <td>3</td>\n",
       "      <td>TOTAL</td>\n",
       "      <td>28507863</td>\n",
       "      <td>2990978</td>\n",
       "      <td>0</td>\n",
       "      <td>0</td>\n",
       "      <td>5786094</td>\n",
       "      <td>8544991</td>\n",
       "      <td>7142817</td>\n",
       "      <td>4374481</td>\n",
       "      <td>5650458</td>\n",
       "    </tr>\n",
       "    <tr>\n",
       "      <th>...</th>\n",
       "      <td>...</td>\n",
       "      <td>...</td>\n",
       "      <td>...</td>\n",
       "      <td>...</td>\n",
       "      <td>...</td>\n",
       "      <td>...</td>\n",
       "      <td>...</td>\n",
       "      <td>...</td>\n",
       "      <td>...</td>\n",
       "      <td>...</td>\n",
       "      <td>...</td>\n",
       "      <td>...</td>\n",
       "      <td>...</td>\n",
       "    </tr>\n",
       "    <tr>\n",
       "      <th>7771</th>\n",
       "      <td>ANDAMAN &amp; NICOBAR ISLANDS</td>\n",
       "      <td>Other Religious communities</td>\n",
       "      <td>3</td>\n",
       "      <td>URBAN</td>\n",
       "      <td>2</td>\n",
       "      <td>0</td>\n",
       "      <td>0</td>\n",
       "      <td>0</td>\n",
       "      <td>2</td>\n",
       "      <td>0</td>\n",
       "      <td>0</td>\n",
       "      <td>0</td>\n",
       "      <td>0</td>\n",
       "    </tr>\n",
       "    <tr>\n",
       "      <th>7772</th>\n",
       "      <td>ANDAMAN &amp; NICOBAR ISLANDS</td>\n",
       "      <td>Other Religious communities</td>\n",
       "      <td>4</td>\n",
       "      <td>URBAN</td>\n",
       "      <td>3</td>\n",
       "      <td>0</td>\n",
       "      <td>0</td>\n",
       "      <td>0</td>\n",
       "      <td>0</td>\n",
       "      <td>3</td>\n",
       "      <td>0</td>\n",
       "      <td>0</td>\n",
       "      <td>0</td>\n",
       "    </tr>\n",
       "    <tr>\n",
       "      <th>7773</th>\n",
       "      <td>ANDAMAN &amp; NICOBAR ISLANDS</td>\n",
       "      <td>Other Religious communities</td>\n",
       "      <td>5</td>\n",
       "      <td>URBAN</td>\n",
       "      <td>2</td>\n",
       "      <td>0</td>\n",
       "      <td>0</td>\n",
       "      <td>0</td>\n",
       "      <td>0</td>\n",
       "      <td>0</td>\n",
       "      <td>2</td>\n",
       "      <td>0</td>\n",
       "      <td>0</td>\n",
       "    </tr>\n",
       "    <tr>\n",
       "      <th>7774</th>\n",
       "      <td>ANDAMAN &amp; NICOBAR ISLANDS</td>\n",
       "      <td>Other Religious communities</td>\n",
       "      <td>6</td>\n",
       "      <td>URBAN</td>\n",
       "      <td>1</td>\n",
       "      <td>0</td>\n",
       "      <td>0</td>\n",
       "      <td>0</td>\n",
       "      <td>0</td>\n",
       "      <td>0</td>\n",
       "      <td>0</td>\n",
       "      <td>0</td>\n",
       "      <td>1</td>\n",
       "    </tr>\n",
       "    <tr>\n",
       "      <th>7775</th>\n",
       "      <td>ANDAMAN &amp; NICOBAR ISLANDS</td>\n",
       "      <td>Other Religious communities</td>\n",
       "      <td>7</td>\n",
       "      <td>URBAN</td>\n",
       "      <td>0</td>\n",
       "      <td>0</td>\n",
       "      <td>0</td>\n",
       "      <td>0</td>\n",
       "      <td>0</td>\n",
       "      <td>0</td>\n",
       "      <td>0</td>\n",
       "      <td>0</td>\n",
       "      <td>0</td>\n",
       "    </tr>\n",
       "  </tbody>\n",
       "</table>\n",
       "<p>7776 rows × 13 columns</p>\n",
       "</div>"
      ],
      "text/plain": [
       "                       Area Name                     Religion  \\\n",
       "0                          INDIA    All Religious communities   \n",
       "1                          INDIA    All Religious communities   \n",
       "2                          INDIA    All Religious communities   \n",
       "3                          INDIA    All Religious communities   \n",
       "4                          INDIA    All Religious communities   \n",
       "...                          ...                          ...   \n",
       "7771  ANDAMAN & NICOBAR ISLANDS   Other Religious communities   \n",
       "7772  ANDAMAN & NICOBAR ISLANDS   Other Religious communities   \n",
       "7773  ANDAMAN & NICOBAR ISLANDS   Other Religious communities   \n",
       "7774  ANDAMAN & NICOBAR ISLANDS   Other Religious communities   \n",
       "7775  ANDAMAN & NICOBAR ISLANDS   Other Religious communities   \n",
       "\n",
       "     Number of literates Division  Male Head  Female Head        1         2  \\\n",
       "0                  Total    TOTAL  173131502     19987858  7645295  15926266   \n",
       "1                      0    TOTAL   22603591      5197226  4312660   5578388   \n",
       "2                      1    TOTAL   25222202      3793385  3332635   4938409   \n",
       "3                      2    TOTAL   33076889      3519241        0   5409469   \n",
       "4                      3    TOTAL   28507863      2990978        0         0   \n",
       "...                  ...      ...        ...          ...      ...       ...   \n",
       "7771                   3    URBAN          2            0        0         0   \n",
       "7772                   4    URBAN          3            0        0         0   \n",
       "7773                   5    URBAN          2            0        0         0   \n",
       "7774                   6    URBAN          1            0        0         0   \n",
       "7775                   7    URBAN          0            0        0         0   \n",
       "\n",
       "             3         4         5         6         7  \n",
       "0     22534494  37090534  35930733  26187941  47804097  \n",
       "1      3823934   4178387   3542781   2503281   3861386  \n",
       "2      5113782   5109107   4189625   2721918   3610111  \n",
       "3      7810684   9117666   5935898   3676591   4645822  \n",
       "4      5786094   8544991   7142817   4374481   5650458  \n",
       "...        ...       ...       ...       ...       ...  \n",
       "7771         2         0         0         0         0  \n",
       "7772         0         3         0         0         0  \n",
       "7773         0         0         2         0         0  \n",
       "7774         0         0         0         0         1  \n",
       "7775         0         0         0         0         0  \n",
       "\n",
       "[7776 rows x 13 columns]"
      ]
     },
     "execution_count": 3,
     "metadata": {},
     "output_type": "execute_result"
    }
   ],
   "source": [
    "data"
   ]
  },
  {
   "cell_type": "code",
   "execution_count": 4,
   "metadata": {},
   "outputs": [],
   "source": [
    "data = data[data['Number of literates'] != 'Total']"
   ]
  },
  {
   "cell_type": "code",
   "execution_count": 5,
   "metadata": {},
   "outputs": [
    {
     "data": {
      "text/html": [
       "<div>\n",
       "<style scoped>\n",
       "    .dataframe tbody tr th:only-of-type {\n",
       "        vertical-align: middle;\n",
       "    }\n",
       "\n",
       "    .dataframe tbody tr th {\n",
       "        vertical-align: top;\n",
       "    }\n",
       "\n",
       "    .dataframe thead th {\n",
       "        text-align: right;\n",
       "    }\n",
       "</style>\n",
       "<table border=\"1\" class=\"dataframe\">\n",
       "  <thead>\n",
       "    <tr style=\"text-align: right;\">\n",
       "      <th></th>\n",
       "      <th>Area Name</th>\n",
       "      <th>Religion</th>\n",
       "      <th>Number of literates</th>\n",
       "      <th>Division</th>\n",
       "      <th>Male Head</th>\n",
       "      <th>Female Head</th>\n",
       "      <th>1</th>\n",
       "      <th>2</th>\n",
       "      <th>3</th>\n",
       "      <th>4</th>\n",
       "      <th>5</th>\n",
       "      <th>6</th>\n",
       "      <th>7</th>\n",
       "    </tr>\n",
       "  </thead>\n",
       "  <tbody>\n",
       "    <tr>\n",
       "      <th>1</th>\n",
       "      <td>INDIA</td>\n",
       "      <td>All Religious communities</td>\n",
       "      <td>0</td>\n",
       "      <td>TOTAL</td>\n",
       "      <td>22603591</td>\n",
       "      <td>5197226</td>\n",
       "      <td>4312660</td>\n",
       "      <td>5578388</td>\n",
       "      <td>3823934</td>\n",
       "      <td>4178387</td>\n",
       "      <td>3542781</td>\n",
       "      <td>2503281</td>\n",
       "      <td>3861386</td>\n",
       "    </tr>\n",
       "    <tr>\n",
       "      <th>2</th>\n",
       "      <td>INDIA</td>\n",
       "      <td>All Religious communities</td>\n",
       "      <td>1</td>\n",
       "      <td>TOTAL</td>\n",
       "      <td>25222202</td>\n",
       "      <td>3793385</td>\n",
       "      <td>3332635</td>\n",
       "      <td>4938409</td>\n",
       "      <td>5113782</td>\n",
       "      <td>5109107</td>\n",
       "      <td>4189625</td>\n",
       "      <td>2721918</td>\n",
       "      <td>3610111</td>\n",
       "    </tr>\n",
       "    <tr>\n",
       "      <th>3</th>\n",
       "      <td>INDIA</td>\n",
       "      <td>All Religious communities</td>\n",
       "      <td>2</td>\n",
       "      <td>TOTAL</td>\n",
       "      <td>33076889</td>\n",
       "      <td>3519241</td>\n",
       "      <td>0</td>\n",
       "      <td>5409469</td>\n",
       "      <td>7810684</td>\n",
       "      <td>9117666</td>\n",
       "      <td>5935898</td>\n",
       "      <td>3676591</td>\n",
       "      <td>4645822</td>\n",
       "    </tr>\n",
       "    <tr>\n",
       "      <th>4</th>\n",
       "      <td>INDIA</td>\n",
       "      <td>All Religious communities</td>\n",
       "      <td>3</td>\n",
       "      <td>TOTAL</td>\n",
       "      <td>28507863</td>\n",
       "      <td>2990978</td>\n",
       "      <td>0</td>\n",
       "      <td>0</td>\n",
       "      <td>5786094</td>\n",
       "      <td>8544991</td>\n",
       "      <td>7142817</td>\n",
       "      <td>4374481</td>\n",
       "      <td>5650458</td>\n",
       "    </tr>\n",
       "    <tr>\n",
       "      <th>5</th>\n",
       "      <td>INDIA</td>\n",
       "      <td>All Religious communities</td>\n",
       "      <td>4</td>\n",
       "      <td>TOTAL</td>\n",
       "      <td>27234951</td>\n",
       "      <td>2004098</td>\n",
       "      <td>0</td>\n",
       "      <td>0</td>\n",
       "      <td>0</td>\n",
       "      <td>10140383</td>\n",
       "      <td>7757183</td>\n",
       "      <td>4897417</td>\n",
       "      <td>6444066</td>\n",
       "    </tr>\n",
       "    <tr>\n",
       "      <th>...</th>\n",
       "      <td>...</td>\n",
       "      <td>...</td>\n",
       "      <td>...</td>\n",
       "      <td>...</td>\n",
       "      <td>...</td>\n",
       "      <td>...</td>\n",
       "      <td>...</td>\n",
       "      <td>...</td>\n",
       "      <td>...</td>\n",
       "      <td>...</td>\n",
       "      <td>...</td>\n",
       "      <td>...</td>\n",
       "      <td>...</td>\n",
       "    </tr>\n",
       "    <tr>\n",
       "      <th>7771</th>\n",
       "      <td>ANDAMAN &amp; NICOBAR ISLANDS</td>\n",
       "      <td>Other Religious communities</td>\n",
       "      <td>3</td>\n",
       "      <td>URBAN</td>\n",
       "      <td>2</td>\n",
       "      <td>0</td>\n",
       "      <td>0</td>\n",
       "      <td>0</td>\n",
       "      <td>2</td>\n",
       "      <td>0</td>\n",
       "      <td>0</td>\n",
       "      <td>0</td>\n",
       "      <td>0</td>\n",
       "    </tr>\n",
       "    <tr>\n",
       "      <th>7772</th>\n",
       "      <td>ANDAMAN &amp; NICOBAR ISLANDS</td>\n",
       "      <td>Other Religious communities</td>\n",
       "      <td>4</td>\n",
       "      <td>URBAN</td>\n",
       "      <td>3</td>\n",
       "      <td>0</td>\n",
       "      <td>0</td>\n",
       "      <td>0</td>\n",
       "      <td>0</td>\n",
       "      <td>3</td>\n",
       "      <td>0</td>\n",
       "      <td>0</td>\n",
       "      <td>0</td>\n",
       "    </tr>\n",
       "    <tr>\n",
       "      <th>7773</th>\n",
       "      <td>ANDAMAN &amp; NICOBAR ISLANDS</td>\n",
       "      <td>Other Religious communities</td>\n",
       "      <td>5</td>\n",
       "      <td>URBAN</td>\n",
       "      <td>2</td>\n",
       "      <td>0</td>\n",
       "      <td>0</td>\n",
       "      <td>0</td>\n",
       "      <td>0</td>\n",
       "      <td>0</td>\n",
       "      <td>2</td>\n",
       "      <td>0</td>\n",
       "      <td>0</td>\n",
       "    </tr>\n",
       "    <tr>\n",
       "      <th>7774</th>\n",
       "      <td>ANDAMAN &amp; NICOBAR ISLANDS</td>\n",
       "      <td>Other Religious communities</td>\n",
       "      <td>6</td>\n",
       "      <td>URBAN</td>\n",
       "      <td>1</td>\n",
       "      <td>0</td>\n",
       "      <td>0</td>\n",
       "      <td>0</td>\n",
       "      <td>0</td>\n",
       "      <td>0</td>\n",
       "      <td>0</td>\n",
       "      <td>0</td>\n",
       "      <td>1</td>\n",
       "    </tr>\n",
       "    <tr>\n",
       "      <th>7775</th>\n",
       "      <td>ANDAMAN &amp; NICOBAR ISLANDS</td>\n",
       "      <td>Other Religious communities</td>\n",
       "      <td>7</td>\n",
       "      <td>URBAN</td>\n",
       "      <td>0</td>\n",
       "      <td>0</td>\n",
       "      <td>0</td>\n",
       "      <td>0</td>\n",
       "      <td>0</td>\n",
       "      <td>0</td>\n",
       "      <td>0</td>\n",
       "      <td>0</td>\n",
       "      <td>0</td>\n",
       "    </tr>\n",
       "  </tbody>\n",
       "</table>\n",
       "<p>6912 rows × 13 columns</p>\n",
       "</div>"
      ],
      "text/plain": [
       "                       Area Name                     Religion  \\\n",
       "1                          INDIA    All Religious communities   \n",
       "2                          INDIA    All Religious communities   \n",
       "3                          INDIA    All Religious communities   \n",
       "4                          INDIA    All Religious communities   \n",
       "5                          INDIA    All Religious communities   \n",
       "...                          ...                          ...   \n",
       "7771  ANDAMAN & NICOBAR ISLANDS   Other Religious communities   \n",
       "7772  ANDAMAN & NICOBAR ISLANDS   Other Religious communities   \n",
       "7773  ANDAMAN & NICOBAR ISLANDS   Other Religious communities   \n",
       "7774  ANDAMAN & NICOBAR ISLANDS   Other Religious communities   \n",
       "7775  ANDAMAN & NICOBAR ISLANDS   Other Religious communities   \n",
       "\n",
       "     Number of literates Division  Male Head  Female Head        1        2  \\\n",
       "1                      0    TOTAL   22603591      5197226  4312660  5578388   \n",
       "2                      1    TOTAL   25222202      3793385  3332635  4938409   \n",
       "3                      2    TOTAL   33076889      3519241        0  5409469   \n",
       "4                      3    TOTAL   28507863      2990978        0        0   \n",
       "5                      4    TOTAL   27234951      2004098        0        0   \n",
       "...                  ...      ...        ...          ...      ...      ...   \n",
       "7771                   3    URBAN          2            0        0        0   \n",
       "7772                   4    URBAN          3            0        0        0   \n",
       "7773                   5    URBAN          2            0        0        0   \n",
       "7774                   6    URBAN          1            0        0        0   \n",
       "7775                   7    URBAN          0            0        0        0   \n",
       "\n",
       "            3         4        5        6        7  \n",
       "1     3823934   4178387  3542781  2503281  3861386  \n",
       "2     5113782   5109107  4189625  2721918  3610111  \n",
       "3     7810684   9117666  5935898  3676591  4645822  \n",
       "4     5786094   8544991  7142817  4374481  5650458  \n",
       "5           0  10140383  7757183  4897417  6444066  \n",
       "...       ...       ...      ...      ...      ...  \n",
       "7771        2         0        0        0        0  \n",
       "7772        0         3        0        0        0  \n",
       "7773        0         0        2        0        0  \n",
       "7774        0         0        0        0        1  \n",
       "7775        0         0        0        0        0  \n",
       "\n",
       "[6912 rows x 13 columns]"
      ]
     },
     "execution_count": 5,
     "metadata": {},
     "output_type": "execute_result"
    }
   ],
   "source": [
    "data"
   ]
  },
  {
   "cell_type": "code",
   "execution_count": 6,
   "metadata": {},
   "outputs": [
    {
     "name": "stderr",
     "output_type": "stream",
     "text": [
      "C:\\Users\\varni\\AppData\\Local\\Temp\\ipykernel_310476\\2488235771.py:1: SettingWithCopyWarning: \n",
      "A value is trying to be set on a copy of a slice from a DataFrame.\n",
      "Try using .loc[row_indexer,col_indexer] = value instead\n",
      "\n",
      "See the caveats in the documentation: https://pandas.pydata.org/pandas-docs/stable/user_guide/indexing.html#returning-a-view-versus-a-copy\n",
      "  data['Number of literates'] = pd.to_numeric(data['Number of literates'], errors='coerce').fillna(0).astype(int)\n"
     ]
    }
   ],
   "source": [
    "data['Number of literates'] = pd.to_numeric(data['Number of literates'], errors='coerce').fillna(0).astype(int)"
   ]
  },
  {
   "cell_type": "code",
   "execution_count": 7,
   "metadata": {},
   "outputs": [
    {
     "name": "stdout",
     "output_type": "stream",
     "text": [
      "[0 1 2 3 4 5 6 7]\n"
     ]
    }
   ],
   "source": [
    "print(data['Number of literates'].unique())"
   ]
  },
  {
   "cell_type": "code",
   "execution_count": 8,
   "metadata": {},
   "outputs": [
    {
     "name": "stderr",
     "output_type": "stream",
     "text": [
      "C:\\Users\\varni\\AppData\\Local\\Temp\\ipykernel_310476\\181160337.py:2: SettingWithCopyWarning: \n",
      "A value is trying to be set on a copy of a slice from a DataFrame.\n",
      "Try using .loc[row_indexer,col_indexer] = value instead\n",
      "\n",
      "See the caveats in the documentation: https://pandas.pydata.org/pandas-docs/stable/user_guide/indexing.html#returning-a-view-versus-a-copy\n",
      "  data['Total Heads'] = data['Male Head'] + data['Female Head']\n",
      "C:\\Users\\varni\\AppData\\Local\\Temp\\ipykernel_310476\\181160337.py:3: SettingWithCopyWarning: \n",
      "A value is trying to be set on a copy of a slice from a DataFrame.\n",
      "Try using .loc[row_indexer,col_indexer] = value instead\n",
      "\n",
      "See the caveats in the documentation: https://pandas.pydata.org/pandas-docs/stable/user_guide/indexing.html#returning-a-view-versus-a-copy\n",
      "  data['Literacy Rate'] = data.apply(\n"
     ]
    }
   ],
   "source": [
    "# Calculate literacy rate\n",
    "data['Total Heads'] = data['Male Head'] + data['Female Head']\n",
    "data['Literacy Rate'] = data.apply(\n",
    "    lambda row: (row['Number of literates'] / row['Total Heads'] * 100) if row['Total Heads'] != 0 else 0,\n",
    "    axis=1\n",
    ")"
   ]
  },
  {
   "cell_type": "code",
   "execution_count": 9,
   "metadata": {},
   "outputs": [
    {
     "data": {
      "text/plain": [
       "array([0.00000000e+00, 3.44642347e-06, 5.46505874e-06, ...,\n",
       "       1.40056022e+00, 6.03448276e+00, 2.17391304e+01])"
      ]
     },
     "execution_count": 9,
     "metadata": {},
     "output_type": "execute_result"
    }
   ],
   "source": [
    "data['Literacy Rate'].unique()"
   ]
  },
  {
   "cell_type": "code",
   "execution_count": 10,
   "metadata": {},
   "outputs": [
    {
     "name": "stderr",
     "output_type": "stream",
     "text": [
      "C:\\Users\\varni\\AppData\\Local\\Temp\\ipykernel_310476\\368777718.py:2: SettingWithCopyWarning: \n",
      "A value is trying to be set on a copy of a slice from a DataFrame.\n",
      "Try using .loc[row_indexer,col_indexer] = value instead\n",
      "\n",
      "See the caveats in the documentation: https://pandas.pydata.org/pandas-docs/stable/user_guide/indexing.html#returning-a-view-versus-a-copy\n",
      "  data['Total Households'] = data[household_columns].sum(axis=1)\n",
      "C:\\Users\\varni\\AppData\\Local\\Temp\\ipykernel_310476\\368777718.py:4: SettingWithCopyWarning: \n",
      "A value is trying to be set on a copy of a slice from a DataFrame.\n",
      "Try using .loc[row_indexer,col_indexer] = value instead\n",
      "\n",
      "See the caveats in the documentation: https://pandas.pydata.org/pandas-docs/stable/user_guide/indexing.html#returning-a-view-versus-a-copy\n",
      "  data[col] = (data[col] / data['Total Households']) * 100\n"
     ]
    }
   ],
   "source": [
    "household_columns = [1, 2, 3, 4, 5, 6, 7]\n",
    "data['Total Households'] = data[household_columns].sum(axis=1)\n",
    "for col in household_columns:\n",
    "    data[col] = (data[col] / data['Total Households']) * 100\n",
    "\n",
    "# Drop unnecessary columns for simplicity\n",
    "processed_data = data[['Area Name', 'Religion', 'Division', 'Literacy Rate', 'Male Head', 'Female Head'] + household_columns]"
   ]
  },
  {
   "cell_type": "code",
   "execution_count": 11,
   "metadata": {},
   "outputs": [
    {
     "data": {
      "image/png": "[encoded data removed]",
      "text/plain": [
       "<Figure size 1000x600 with 1 Axes>"
      ]
     },
     "metadata": {},
     "output_type": "display_data"
    },
    {
     "data": {
      "image/png": "[encoded data removed]",
      "text/plain": [
       "<Figure size 640x480 with 2 Axes>"
      ]
     },
     "metadata": {},
     "output_type": "display_data"
    }
   ],
   "source": [
    "import seaborn as sns\n",
    "import matplotlib.pyplot as plt\n",
    "# Select only numeric columns\n",
    "numeric_columns = processed_data.select_dtypes(include=['number']).columns\n",
    "\n",
    "# Perform groupby mean operation on numeric columns only\n",
    "data_grouped = processed_data.groupby('Division')[numeric_columns].mean().reset_index()\n",
    "data_grouped[['Male Head', 'Female Head']].plot(kind='bar', stacked=True, figsize=(10, 6), color=['skyblue', 'pink'])\n",
    "plt.title(\"Leadership Distribution vs Literacy Rate by Division\")\n",
    "plt.xlabel(\"Division\")\n",
    "plt.ylabel(\"Average Number of Heads\")\n",
    "plt.legend([\"Male Head\", \"Female Head\"])\n",
    "plt.show()\n",
    "\n",
    "# Heatmap for correlation\n",
    "correlation_matrix = processed_data[['Literacy Rate'] + household_columns].corr()\n",
    "sns.heatmap(correlation_matrix, annot=True, cmap='coolwarm', fmt=\".2f\")\n",
    "plt.title(\"Correlation Between Literacy Rate and Household Sizes\")\n",
    "plt.show()\n"
   ]
  },
  {
   "cell_type": "code",
   "execution_count": 12,
   "metadata": {},
   "outputs": [
    {
     "name": "stdout",
     "output_type": "stream",
     "text": [
      "              precision    recall  f1-score   support\n",
      "\n",
      "           0       0.99      1.00      0.99      1366\n",
      "           1       0.00      0.00      0.00        17\n",
      "\n",
      "    accuracy                           0.99      1383\n",
      "   macro avg       0.49      0.50      0.50      1383\n",
      "weighted avg       0.98      0.99      0.98      1383\n",
      "\n"
     ]
    },
    {
     "name": "stderr",
     "output_type": "stream",
     "text": [
      "C:\\Users\\varni\\AppData\\Local\\Temp\\ipykernel_310476\\2201734154.py:9: SettingWithCopyWarning: \n",
      "A value is trying to be set on a copy of a slice from a DataFrame.\n",
      "Try using .loc[row_indexer,col_indexer] = value instead\n",
      "\n",
      "See the caveats in the documentation: https://pandas.pydata.org/pandas-docs/stable/user_guide/indexing.html#returning-a-view-versus-a-copy\n",
      "  processed_data['Religion_Encoded'] = le.fit_transform(processed_data['Religion'])\n",
      "c:\\Users\\varni\\miniconda3\\envs\\myenv\\Lib\\site-packages\\sklearn\\metrics\\_classification.py:1531: UndefinedMetricWarning: Precision is ill-defined and being set to 0.0 in labels with no predicted samples. Use `zero_division` parameter to control this behavior.\n",
      "  _warn_prf(average, modifier, f\"{metric.capitalize()} is\", len(result))\n",
      "c:\\Users\\varni\\miniconda3\\envs\\myenv\\Lib\\site-packages\\sklearn\\metrics\\_classification.py:1531: UndefinedMetricWarning: Precision is ill-defined and being set to 0.0 in labels with no predicted samples. Use `zero_division` parameter to control this behavior.\n",
      "  _warn_prf(average, modifier, f\"{metric.capitalize()} is\", len(result))\n",
      "c:\\Users\\varni\\miniconda3\\envs\\myenv\\Lib\\site-packages\\sklearn\\metrics\\_classification.py:1531: UndefinedMetricWarning: Precision is ill-defined and being set to 0.0 in labels with no predicted samples. Use `zero_division` parameter to control this behavior.\n",
      "  _warn_prf(average, modifier, f\"{metric.capitalize()} is\", len(result))\n"
     ]
    }
   ],
   "source": [
    "from sklearn.model_selection import train_test_split\n",
    "from sklearn.linear_model import LogisticRegression\n",
    "from sklearn.preprocessing import LabelEncoder\n",
    "from sklearn.impute import SimpleImputer\n",
    "from sklearn.metrics import classification_report\n",
    "\n",
    "# Encode categorical variables\n",
    "le = LabelEncoder()\n",
    "processed_data['Religion_Encoded'] = le.fit_transform(processed_data['Religion'])\n",
    "\n",
    "# Prepare features and target\n",
    "X = processed_data[['Literacy Rate', 'Religion_Encoded'] + household_columns]\n",
    "y = (processed_data['Female Head'] > processed_data['Male Head']).astype(int)  # Female Headed = 1, else 0\n",
    "\n",
    "# Train-test split\n",
    "X.columns = X.columns.astype(str)\n",
    "X_train, X_test, y_train, y_test = train_test_split(X, y, test_size=0.2, random_state=42)\n",
    "imputer = SimpleImputer(strategy='mean')\n",
    "X_train = pd.DataFrame(imputer.fit_transform(X_train), columns=X_train.columns)\n",
    "X_test = pd.DataFrame(imputer.transform(X_test), columns=X_test.columns)\n",
    "# Logistic Regression\n",
    "model = LogisticRegression()\n",
    "model.fit(X_train, y_train)\n",
    "\n",
    "# Evaluate\n",
    "y_pred = model.predict(X_test)\n",
    "print(classification_report(y_test, y_pred))\n"
   ]
  },
  {
   "cell_type": "code",
   "execution_count": 13,
   "metadata": {},
   "outputs": [],
   "source": [
    "from sklearn.preprocessing import StandardScaler\n",
    "scaler = StandardScaler()\n",
    "scaled_data = scaler.fit_transform(data[['Literacy Rate', 'Number of literates', 'Total Heads']])\n"
   ]
  },
  {
   "cell_type": "code",
   "execution_count": 14,
   "metadata": {},
   "outputs": [
    {
     "name": "stderr",
     "output_type": "stream",
     "text": [
      "c:\\Users\\varni\\miniconda3\\envs\\myenv\\Lib\\site-packages\\joblib\\externals\\loky\\backend\\context.py:136: UserWarning: Could not find the number of physical cores for the following reason:\n",
      "[WinError 2] The system cannot find the file specified\n",
      "Returning the number of logical cores instead. You can silence this warning by setting LOKY_MAX_CPU_COUNT to the number of cores you want to use.\n",
      "  warnings.warn(\n",
      "  File \"c:\\Users\\varni\\miniconda3\\envs\\myenv\\Lib\\site-packages\\joblib\\externals\\loky\\backend\\context.py\", line 257, in _count_physical_cores\n",
      "    cpu_info = subprocess.run(\n",
      "               ^^^^^^^^^^^^^^^\n",
      "  File \"c:\\Users\\varni\\miniconda3\\envs\\myenv\\Lib\\subprocess.py\", line 548, in run\n",
      "    with Popen(*popenargs, **kwargs) as process:\n",
      "         ^^^^^^^^^^^^^^^^^^^^^^^^^^^\n",
      "  File \"c:\\Users\\varni\\miniconda3\\envs\\myenv\\Lib\\subprocess.py\", line 1026, in __init__\n",
      "    self._execute_child(args, executable, preexec_fn, close_fds,\n",
      "  File \"c:\\Users\\varni\\miniconda3\\envs\\myenv\\Lib\\subprocess.py\", line 1538, in _execute_child\n",
      "    hp, ht, pid, tid = _winapi.CreateProcess(executable, args,\n",
      "                       ^^^^^^^^^^^^^^^^^^^^^^^^^^^^^^^^^^^^^^^\n"
     ]
    },
    {
     "data": {
      "image/png": "[encoded data removed]",
      "text/plain": [
       "<Figure size 640x480 with 1 Axes>"
      ]
     },
     "metadata": {},
     "output_type": "display_data"
    },
    {
     "name": "stdout",
     "output_type": "stream",
     "text": [
      "Clusters: 2, Silhouette Score: 0.7660834561521273\n",
      "Clusters: 3, Silhouette Score: 0.7755276963581395\n",
      "Clusters: 4, Silhouette Score: 0.5620302266417125\n",
      "Clusters: 5, Silhouette Score: 0.5028615261735505\n",
      "Clusters: 6, Silhouette Score: 0.4902569004348398\n",
      "Clusters: 7, Silhouette Score: 0.5163481715542393\n",
      "Clusters: 8, Silhouette Score: 0.5003026535063639\n",
      "Clusters: 9, Silhouette Score: 0.4961083544270802\n",
      "Best number of clusters: 3\n"
     ]
    }
   ],
   "source": [
    "from sklearn.cluster import KMeans\n",
    "from sklearn.metrics import silhouette_score\n",
    "import matplotlib.pyplot as plt\n",
    "\n",
    "# Elbow method\n",
    "distortions = []\n",
    "K = range(1, 10)\n",
    "for k in K:\n",
    "    kmeans = KMeans(n_clusters=k, random_state=42)\n",
    "    kmeans.fit(scaled_data)\n",
    "    distortions.append(kmeans.inertia_)\n",
    "\n",
    "# Plot elbow\n",
    "plt.plot(K, distortions, 'bx-')\n",
    "plt.xlabel('Number of Clusters')\n",
    "plt.ylabel('Distortion')\n",
    "plt.title('Elbow Method')\n",
    "plt.show()\n",
    "\n",
    "# Silhouette score\n",
    "best_score = -1\n",
    "for k in range(2, 10):\n",
    "    kmeans = KMeans(n_clusters=k, random_state=42)\n",
    "    labels = kmeans.fit_predict(scaled_data)\n",
    "    score = silhouette_score(scaled_data, labels)\n",
    "    print(f'Clusters: {k}, Silhouette Score: {score}')\n",
    "    if score > best_score:\n",
    "        best_score = score\n",
    "        best_k = k\n",
    "print(f'Best number of clusters: {best_k}')\n"
   ]
  },
  {
   "cell_type": "code",
   "execution_count": 15,
   "metadata": {},
   "outputs": [
    {
     "data": {
      "image/png": "[encoded data removed]",
      "text/plain": [
       "<Figure size 1000x700 with 1 Axes>"
      ]
     },
     "metadata": {},
     "output_type": "display_data"
    }
   ],
   "source": [
    "from scipy.cluster.hierarchy import dendrogram, linkage\n",
    "\n",
    "# Compute linkage matrix\n",
    "linked = linkage(scaled_data, method='ward')\n",
    "\n",
    "# Plot dendrogram\n",
    "plt.figure(figsize=(10, 7))\n",
    "dendrogram(linked, truncate_mode='level', p=5)\n",
    "plt.title('Hierarchical Clustering Dendrogram')\n",
    "plt.xlabel('Samples')\n",
    "plt.ylabel('Distance')\n",
    "plt.show()\n"
   ]
  },
  {
   "cell_type": "code",
   "execution_count": 16,
   "metadata": {},
   "outputs": [
    {
     "name": "stderr",
     "output_type": "stream",
     "text": [
      "C:\\Users\\varni\\AppData\\Local\\Temp\\ipykernel_310476\\1454883755.py:2: SettingWithCopyWarning: \n",
      "A value is trying to be set on a copy of a slice from a DataFrame.\n",
      "Try using .loc[row_indexer,col_indexer] = value instead\n",
      "\n",
      "See the caveats in the documentation: https://pandas.pydata.org/pandas-docs/stable/user_guide/indexing.html#returning-a-view-versus-a-copy\n",
      "  data['Cluster'] = kmeans.fit_predict(scaled_data)\n"
     ]
    }
   ],
   "source": [
    "kmeans = KMeans(n_clusters=best_k, random_state=42)\n",
    "data['Cluster'] = kmeans.fit_predict(scaled_data)"
   ]
  },
  {
   "cell_type": "code",
   "execution_count": 17,
   "metadata": {},
   "outputs": [
    {
     "data": {
      "text/plain": [
       "1       2\n",
       "2       2\n",
       "3       2\n",
       "4       2\n",
       "5       2\n",
       "       ..\n",
       "7771    0\n",
       "7772    0\n",
       "7773    1\n",
       "7774    1\n",
       "7775    0\n",
       "Name: Cluster, Length: 6912, dtype: int32"
      ]
     },
     "execution_count": 17,
     "metadata": {},
     "output_type": "execute_result"
    }
   ],
   "source": [
    "data['Cluster']"
   ]
  },
  {
   "cell_type": "code",
   "execution_count": 18,
   "metadata": {},
   "outputs": [],
   "source": [
    "data.to_csv('literacy_clustered.csv', index=False)"
   ]
  },
  {
   "cell_type": "code",
   "execution_count": 21,
   "metadata": {},
   "outputs": [
    {
     "name": "stderr",
     "output_type": "stream",
     "text": [
      "C:\\Users\\varni\\AppData\\Local\\Temp\\ipykernel_310476\\2000076052.py:3: SettingWithCopyWarning: \n",
      "A value is trying to be set on a copy of a slice from a DataFrame.\n",
      "Try using .loc[row_indexer,col_indexer] = value instead\n",
      "\n",
      "See the caveats in the documentation: https://pandas.pydata.org/pandas-docs/stable/user_guide/indexing.html#returning-a-view-versus-a-copy\n",
      "  data['Total Household Size'] = data[household_size_columns].sum(axis=1)\n",
      "C:\\Users\\varni\\AppData\\Local\\Temp\\ipykernel_310476\\2000076052.py:7: SettingWithCopyWarning: \n",
      "A value is trying to be set on a copy of a slice from a DataFrame.\n",
      "Try using .loc[row_indexer,col_indexer] = value instead\n",
      "\n",
      "See the caveats in the documentation: https://pandas.pydata.org/pandas-docs/stable/user_guide/indexing.html#returning-a-view-versus-a-copy\n",
      "  data[f'Percentage of {col}'] = data[col] / data['Total Household Size'] * 100\n",
      "C:\\Users\\varni\\AppData\\Local\\Temp\\ipykernel_310476\\2000076052.py:7: SettingWithCopyWarning: \n",
      "A value is trying to be set on a copy of a slice from a DataFrame.\n",
      "Try using .loc[row_indexer,col_indexer] = value instead\n",
      "\n",
      "See the caveats in the documentation: https://pandas.pydata.org/pandas-docs/stable/user_guide/indexing.html#returning-a-view-versus-a-copy\n",
      "  data[f'Percentage of {col}'] = data[col] / data['Total Household Size'] * 100\n",
      "C:\\Users\\varni\\AppData\\Local\\Temp\\ipykernel_310476\\2000076052.py:7: SettingWithCopyWarning: \n",
      "A value is trying to be set on a copy of a slice from a DataFrame.\n",
      "Try using .loc[row_indexer,col_indexer] = value instead\n",
      "\n",
      "See the caveats in the documentation: https://pandas.pydata.org/pandas-docs/stable/user_guide/indexing.html#returning-a-view-versus-a-copy\n",
      "  data[f'Percentage of {col}'] = data[col] / data['Total Household Size'] * 100\n",
      "C:\\Users\\varni\\AppData\\Local\\Temp\\ipykernel_310476\\2000076052.py:7: SettingWithCopyWarning: \n",
      "A value is trying to be set on a copy of a slice from a DataFrame.\n",
      "Try using .loc[row_indexer,col_indexer] = value instead\n",
      "\n",
      "See the caveats in the documentation: https://pandas.pydata.org/pandas-docs/stable/user_guide/indexing.html#returning-a-view-versus-a-copy\n",
      "  data[f'Percentage of {col}'] = data[col] / data['Total Household Size'] * 100\n",
      "C:\\Users\\varni\\AppData\\Local\\Temp\\ipykernel_310476\\2000076052.py:7: SettingWithCopyWarning: \n",
      "A value is trying to be set on a copy of a slice from a DataFrame.\n",
      "Try using .loc[row_indexer,col_indexer] = value instead\n",
      "\n",
      "See the caveats in the documentation: https://pandas.pydata.org/pandas-docs/stable/user_guide/indexing.html#returning-a-view-versus-a-copy\n",
      "  data[f'Percentage of {col}'] = data[col] / data['Total Household Size'] * 100\n",
      "C:\\Users\\varni\\AppData\\Local\\Temp\\ipykernel_310476\\2000076052.py:7: SettingWithCopyWarning: \n",
      "A value is trying to be set on a copy of a slice from a DataFrame.\n",
      "Try using .loc[row_indexer,col_indexer] = value instead\n",
      "\n",
      "See the caveats in the documentation: https://pandas.pydata.org/pandas-docs/stable/user_guide/indexing.html#returning-a-view-versus-a-copy\n",
      "  data[f'Percentage of {col}'] = data[col] / data['Total Household Size'] * 100\n",
      "C:\\Users\\varni\\AppData\\Local\\Temp\\ipykernel_310476\\2000076052.py:7: SettingWithCopyWarning: \n",
      "A value is trying to be set on a copy of a slice from a DataFrame.\n",
      "Try using .loc[row_indexer,col_indexer] = value instead\n",
      "\n",
      "See the caveats in the documentation: https://pandas.pydata.org/pandas-docs/stable/user_guide/indexing.html#returning-a-view-versus-a-copy\n",
      "  data[f'Percentage of {col}'] = data[col] / data['Total Household Size'] * 100\n"
     ]
    }
   ],
   "source": [
    "# Summing up the values across household size columns\n",
    "household_size_columns = [1, 2, 3, 4, 5, 6, 7]\n",
    "data['Total Household Size'] = data[household_size_columns].sum(axis=1)\n",
    "\n",
    "# Optionally, calculate percentage of households in each category relative to the total\n",
    "for col in household_size_columns:\n",
    "    data[f'Percentage of {col}'] = data[col] / data['Total Household Size'] * 100"
   ]
  },
  {
   "cell_type": "code",
   "execution_count": 26,
   "metadata": {},
   "outputs": [
    {
     "data": {
      "application/vnd.plotly.v1+json": {
       "config": {
        "plotlyServerURL": "https://plot.ly"
       },
       "data": [
        {
         "hovertemplate": "Division=RURAL<br>Number of Households=%{r}<br>Household Size=%{theta}<extra></extra>",
         "legendgroup": "RURAL",
         "line": {
          "color": "#636efa",
          "dash": "solid"
         },
         "marker": {
          "symbol": "circle"
         },
         "mode": "lines",
         "name": "RURAL",
         "r": [
          13012.814764644376,
          15403.650429548026,
          20217.441289159728,
          30006.222692732117,
          34302.58047983319,
          31376.841863360332,
          75380.44848072223,
          13012.814764644376
         ],
         "showlegend": true,
         "subplot": "polar",
         "theta": [
          1,
          2,
          3,
          4,
          5,
          6,
          7,
          1
         ],
         "type": "scatterpolar"
        },
        {
         "hovertemplate": "Division=TOTAL<br>Number of Households=%{r}<br>Household Size=%{theta}<extra></extra>",
         "legendgroup": "TOTAL",
         "line": {
          "color": "#EF553B",
          "dash": "solid"
         },
         "marker": {
          "symbol": "circle"
         },
         "mode": "lines",
         "name": "TOTAL",
         "r": [
          16139.774978384346,
          16599.393777853176,
          22337.97013799824,
          33467.27278736085,
          34765.917346533155,
          31881.147466125574,
          70108.52350574466,
          16139.774978384346
         ],
         "showlegend": true,
         "subplot": "polar",
         "theta": [
          1,
          2,
          3,
          4,
          5,
          6,
          7,
          1
         ],
         "type": "scatterpolar"
        },
        {
         "hovertemplate": "Division=URBAN<br>Number of Households=%{r}<br>Household Size=%{theta}<extra></extra>",
         "legendgroup": "URBAN",
         "line": {
          "color": "#00cc96",
          "dash": "solid"
         },
         "marker": {
          "symbol": "circle"
         },
         "mode": "lines",
         "name": "URBAN",
         "r": [
          21124.15155109721,
          18289.95487035742,
          25142.724158934114,
          35925.84018506556,
          34500.32604271915,
          29678.203435145504,
          57638.799756681045,
          21124.15155109721
         ],
         "showlegend": true,
         "subplot": "polar",
         "theta": [
          1,
          2,
          3,
          4,
          5,
          6,
          7,
          1
         ],
         "type": "scatterpolar"
        }
       ],
       "layout": {
        "legend": {
         "title": {
          "text": "Division"
         },
         "tracegroupgap": 0
        },
        "margin": {
         "t": 60
        },
        "polar": {
         "angularaxis": {
          "direction": "clockwise",
          "rotation": 90
         },
         "domain": {
          "x": [
           0,
           1
          ],
          "y": [
           0,
           1
          ]
         },
         "radialaxis": {
          "range": [
           0,
           75380.44848072223
          ],
          "visible": true
         }
        },
        "template": {
         "data": {
          "bar": [
           {
            "error_x": {
             "color": "#2a3f5f"
            },
            "error_y": {
             "color": "#2a3f5f"
            },
            "marker": {
             "line": {
              "color": "#E5ECF6",
              "width": 0.5
             },
             "pattern": {
              "fillmode": "overlay",
              "size": 10,
              "solidity": 0.2
             }
            },
            "type": "bar"
           }
          ],
          "barpolar": [
           {
            "marker": {
             "line": {
              "color": "#E5ECF6",
              "width": 0.5
             },
             "pattern": {
              "fillmode": "overlay",
              "size": 10,
              "solidity": 0.2
             }
            },
            "type": "barpolar"
           }
          ],
          "carpet": [
           {
            "aaxis": {
             "endlinecolor": "#2a3f5f",
             "gridcolor": "white",
             "linecolor": "white",
             "minorgridcolor": "white",
             "startlinecolor": "#2a3f5f"
            },
            "baxis": {
             "endlinecolor": "#2a3f5f",
             "gridcolor": "white",
             "linecolor": "white",
             "minorgridcolor": "white",
             "startlinecolor": "#2a3f5f"
            },
            "type": "carpet"
           }
          ],
          "choropleth": [
           {
            "colorbar": {
             "outlinewidth": 0,
             "ticks": ""
            },
            "type": "choropleth"
           }
          ],
          "contour": [
           {
            "colorbar": {
             "outlinewidth": 0,
             "ticks": ""
            },
            "colorscale": [
             [
              0,
              "#0d0887"
             ],
             [
              0.1111111111111111,
              "#46039f"
             ],
             [
              0.2222222222222222,
              "#7201a8"
             ],
             [
              0.3333333333333333,
              "#9c179e"
             ],
             [
              0.4444444444444444,
              "#bd3786"
             ],
             [
              0.5555555555555556,
              "#d8576b"
             ],
             [
              0.6666666666666666,
              "#ed7953"
             ],
             [
              0.7777777777777778,
              "#fb9f3a"
             ],
             [
              0.8888888888888888,
              "#fdca26"
             ],
             [
              1,
              "#f0f921"
             ]
            ],
            "type": "contour"
           }
          ],
          "contourcarpet": [
           {
            "colorbar": {
             "outlinewidth": 0,
             "ticks": ""
            },
            "type": "contourcarpet"
           }
          ],
          "heatmap": [
           {
            "colorbar": {
             "outlinewidth": 0,
             "ticks": ""
            },
            "colorscale": [
             [
              0,
              "#0d0887"
             ],
             [
              0.1111111111111111,
              "#46039f"
             ],
             [
              0.2222222222222222,
              "#7201a8"
             ],
             [
              0.3333333333333333,
              "#9c179e"
             ],
             [
              0.4444444444444444,
              "#bd3786"
             ],
             [
              0.5555555555555556,
              "#d8576b"
             ],
             [
              0.6666666666666666,
              "#ed7953"
             ],
             [
              0.7777777777777778,
              "#fb9f3a"
             ],
             [
              0.8888888888888888,
              "#fdca26"
             ],
             [
              1,
              "#f0f921"
             ]
            ],
            "type": "heatmap"
           }
          ],
          "heatmapgl": [
           {
            "colorbar": {
             "outlinewidth": 0,
             "ticks": ""
            },
            "colorscale": [
             [
              0,
              "#0d0887"
             ],
             [
              0.1111111111111111,
              "#46039f"
             ],
             [
              0.2222222222222222,
              "#7201a8"
             ],
             [
              0.3333333333333333,
              "#9c179e"
             ],
             [
              0.4444444444444444,
              "#bd3786"
             ],
             [
              0.5555555555555556,
              "#d8576b"
             ],
             [
              0.6666666666666666,
              "#ed7953"
             ],
             [
              0.7777777777777778,
              "#fb9f3a"
             ],
             [
              0.8888888888888888,
              "#fdca26"
             ],
             [
              1,
              "#f0f921"
             ]
            ],
            "type": "heatmapgl"
           }
          ],
          "histogram": [
           {
            "marker": {
             "pattern": {
              "fillmode": "overlay",
              "size": 10,
              "solidity": 0.2
             }
            },
            "type": "histogram"
           }
          ],
          "histogram2d": [
           {
            "colorbar": {
             "outlinewidth": 0,
             "ticks": ""
            },
            "colorscale": [
             [
              0,
              "#0d0887"
             ],
             [
              0.1111111111111111,
              "#46039f"
             ],
             [
              0.2222222222222222,
              "#7201a8"
             ],
             [
              0.3333333333333333,
              "#9c179e"
             ],
             [
              0.4444444444444444,
              "#bd3786"
             ],
             [
              0.5555555555555556,
              "#d8576b"
             ],
             [
              0.6666666666666666,
              "#ed7953"
             ],
             [
              0.7777777777777778,
              "#fb9f3a"
             ],
             [
              0.8888888888888888,
              "#fdca26"
             ],
             [
              1,
              "#f0f921"
             ]
            ],
            "type": "histogram2d"
           }
          ],
          "histogram2dcontour": [
           {
            "colorbar": {
             "outlinewidth": 0,
             "ticks": ""
            },
            "colorscale": [
             [
              0,
              "#0d0887"
             ],
             [
              0.1111111111111111,
              "#46039f"
             ],
             [
              0.2222222222222222,
              "#7201a8"
             ],
             [
              0.3333333333333333,
              "#9c179e"
             ],
             [
              0.4444444444444444,
              "#bd3786"
             ],
             [
              0.5555555555555556,
              "#d8576b"
             ],
             [
              0.6666666666666666,
              "#ed7953"
             ],
             [
              0.7777777777777778,
              "#fb9f3a"
             ],
             [
              0.8888888888888888,
              "#fdca26"
             ],
             [
              1,
              "#f0f921"
             ]
            ],
            "type": "histogram2dcontour"
           }
          ],
          "mesh3d": [
           {
            "colorbar": {
             "outlinewidth": 0,
             "ticks": ""
            },
            "type": "mesh3d"
           }
          ],
          "parcoords": [
           {
            "line": {
             "colorbar": {
              "outlinewidth": 0,
              "ticks": ""
             }
            },
            "type": "parcoords"
           }
          ],
          "pie": [
           {
            "automargin": true,
            "type": "pie"
           }
          ],
          "scatter": [
           {
            "fillpattern": {
             "fillmode": "overlay",
             "size": 10,
             "solidity": 0.2
            },
            "type": "scatter"
           }
          ],
          "scatter3d": [
           {
            "line": {
             "colorbar": {
              "outlinewidth": 0,
              "ticks": ""
             }
            },
            "marker": {
             "colorbar": {
              "outlinewidth": 0,
              "ticks": ""
             }
            },
            "type": "scatter3d"
           }
          ],
          "scattercarpet": [
           {
            "marker": {
             "colorbar": {
              "outlinewidth": 0,
              "ticks": ""
             }
            },
            "type": "scattercarpet"
           }
          ],
          "scattergeo": [
           {
            "marker": {
             "colorbar": {
              "outlinewidth": 0,
              "ticks": ""
             }
            },
            "type": "scattergeo"
           }
          ],
          "scattergl": [
           {
            "marker": {
             "colorbar": {
              "outlinewidth": 0,
              "ticks": ""
             }
            },
            "type": "scattergl"
           }
          ],
          "scattermapbox": [
           {
            "marker": {
             "colorbar": {
              "outlinewidth": 0,
              "ticks": ""
             }
            },
            "type": "scattermapbox"
           }
          ],
          "scatterpolar": [
           {
            "marker": {
             "colorbar": {
              "outlinewidth": 0,
              "ticks": ""
             }
            },
            "type": "scatterpolar"
           }
          ],
          "scatterpolargl": [
           {
            "marker": {
             "colorbar": {
              "outlinewidth": 0,
              "ticks": ""
             }
            },
            "type": "scatterpolargl"
           }
          ],
          "scatterternary": [
           {
            "marker": {
             "colorbar": {
              "outlinewidth": 0,
              "ticks": ""
             }
            },
            "type": "scatterternary"
           }
          ],
          "surface": [
           {
            "colorbar": {
             "outlinewidth": 0,
             "ticks": ""
            },
            "colorscale": [
             [
              0,
              "#0d0887"
             ],
             [
              0.1111111111111111,
              "#46039f"
             ],
             [
              0.2222222222222222,
              "#7201a8"
             ],
             [
              0.3333333333333333,
              "#9c179e"
             ],
             [
              0.4444444444444444,
              "#bd3786"
             ],
             [
              0.5555555555555556,
              "#d8576b"
             ],
             [
              0.6666666666666666,
              "#ed7953"
             ],
             [
              0.7777777777777778,
              "#fb9f3a"
             ],
             [
              0.8888888888888888,
              "#fdca26"
             ],
             [
              1,
              "#f0f921"
             ]
            ],
            "type": "surface"
           }
          ],
          "table": [
           {
            "cells": {
             "fill": {
              "color": "#EBF0F8"
             },
             "line": {
              "color": "white"
             }
            },
            "header": {
             "fill": {
              "color": "#C8D4E3"
             },
             "line": {
              "color": "white"
             }
            },
            "type": "table"
           }
          ]
         },
         "layout": {
          "annotationdefaults": {
           "arrowcolor": "#2a3f5f",
           "arrowhead": 0,
           "arrowwidth": 1
          },
          "autotypenumbers": "strict",
          "coloraxis": {
           "colorbar": {
            "outlinewidth": 0,
            "ticks": ""
           }
          },
          "colorscale": {
           "diverging": [
            [
             0,
             "#8e0152"
            ],
            [
             0.1,
             "#c51b7d"
            ],
            [
             0.2,
             "#de77ae"
            ],
            [
             0.3,
             "#f1b6da"
            ],
            [
             0.4,
             "#fde0ef"
            ],
            [
             0.5,
             "#f7f7f7"
            ],
            [
             0.6,
             "#e6f5d0"
            ],
            [
             0.7,
             "#b8e186"
            ],
            [
             0.8,
             "#7fbc41"
            ],
            [
             0.9,
             "#4d9221"
            ],
            [
             1,
             "#276419"
            ]
           ],
           "sequential": [
            [
             0,
             "#0d0887"
            ],
            [
             0.1111111111111111,
             "#46039f"
            ],
            [
             0.2222222222222222,
             "#7201a8"
            ],
            [
             0.3333333333333333,
             "#9c179e"
            ],
            [
             0.4444444444444444,
             "#bd3786"
            ],
            [
             0.5555555555555556,
             "#d8576b"
            ],
            [
             0.6666666666666666,
             "#ed7953"
            ],
            [
             0.7777777777777778,
             "#fb9f3a"
            ],
            [
             0.8888888888888888,
             "#fdca26"
            ],
            [
             1,
             "#f0f921"
            ]
           ],
           "sequentialminus": [
            [
             0,
             "#0d0887"
            ],
            [
             0.1111111111111111,
             "#46039f"
            ],
            [
             0.2222222222222222,
             "#7201a8"
            ],
            [
             0.3333333333333333,
             "#9c179e"
            ],
            [
             0.4444444444444444,
             "#bd3786"
            ],
            [
             0.5555555555555556,
             "#d8576b"
            ],
            [
             0.6666666666666666,
             "#ed7953"
            ],
            [
             0.7777777777777778,
             "#fb9f3a"
            ],
            [
             0.8888888888888888,
             "#fdca26"
            ],
            [
             1,
             "#f0f921"
            ]
           ]
          },
          "colorway": [
           "#636efa",
           "#EF553B",
           "#00cc96",
           "#ab63fa",
           "#FFA15A",
           "#19d3f3",
           "#FF6692",
           "#B6E880",
           "#FF97FF",
           "#FECB52"
          ],
          "font": {
           "color": "#2a3f5f"
          },
          "geo": {
           "bgcolor": "white",
           "lakecolor": "white",
           "landcolor": "#E5ECF6",
           "showlakes": true,
           "showland": true,
           "subunitcolor": "white"
          },
          "hoverlabel": {
           "align": "left"
          },
          "hovermode": "closest",
          "mapbox": {
           "style": "light"
          },
          "paper_bgcolor": "white",
          "plot_bgcolor": "#E5ECF6",
          "polar": {
           "angularaxis": {
            "gridcolor": "white",
            "linecolor": "white",
            "ticks": ""
           },
           "bgcolor": "#E5ECF6",
           "radialaxis": {
            "gridcolor": "white",
            "linecolor": "white",
            "ticks": ""
           }
          },
          "scene": {
           "xaxis": {
            "backgroundcolor": "#E5ECF6",
            "gridcolor": "white",
            "gridwidth": 2,
            "linecolor": "white",
            "showbackground": true,
            "ticks": "",
            "zerolinecolor": "white"
           },
           "yaxis": {
            "backgroundcolor": "#E5ECF6",
            "gridcolor": "white",
            "gridwidth": 2,
            "linecolor": "white",
            "showbackground": true,
            "ticks": "",
            "zerolinecolor": "white"
           },
           "zaxis": {
            "backgroundcolor": "#E5ECF6",
            "gridcolor": "white",
            "gridwidth": 2,
            "linecolor": "white",
            "showbackground": true,
            "ticks": "",
            "zerolinecolor": "white"
           }
          },
          "shapedefaults": {
           "line": {
            "color": "#2a3f5f"
           }
          },
          "ternary": {
           "aaxis": {
            "gridcolor": "white",
            "linecolor": "white",
            "ticks": ""
           },
           "baxis": {
            "gridcolor": "white",
            "linecolor": "white",
            "ticks": ""
           },
           "bgcolor": "#E5ECF6",
           "caxis": {
            "gridcolor": "white",
            "linecolor": "white",
            "ticks": ""
           }
          },
          "title": {
           "x": 0.05
          },
          "xaxis": {
           "automargin": true,
           "gridcolor": "white",
           "linecolor": "white",
           "ticks": "",
           "title": {
            "standoff": 15
           },
           "zerolinecolor": "white",
           "zerolinewidth": 2
          },
          "yaxis": {
           "automargin": true,
           "gridcolor": "white",
           "linecolor": "white",
           "ticks": "",
           "title": {
            "standoff": 15
           },
           "zerolinecolor": "white",
           "zerolinewidth": 2
          }
         }
        },
        "title": {
         "text": "Radar Chart: Household Size Distribution by Division"
        }
       }
      }
     },
     "metadata": {},
     "output_type": "display_data"
    }
   ],
   "source": [
    "import plotly.express as px\n",
    "\n",
    "# Aggregating household size columns by 'Division'\n",
    "agg_data = data.groupby('Division')[household_size_columns].sum().reset_index()\n",
    "\n",
    "# Now, 'agg_data' will have the sum of household size categories for each division.\n",
    "# Create a new DataFrame that reshapes the data for radar chart\n",
    "radar_data = agg_data.melt(id_vars='Division', value_vars=household_size_columns, \n",
    "                           var_name='Household Size', value_name='Number of Households')\n",
    "\n",
    "# Now you can use this reshaped data to plot the radar chart\n",
    "fig = px.line_polar(radar_data, r='Number of Households', theta='Household Size', color='Division', line_close=True)\n",
    "\n",
    "# Customizing the chart\n",
    "fig.update_layout(\n",
    "    title=\"Radar Chart: Household Size Distribution by Division\",\n",
    "    polar=dict(\n",
    "        radialaxis=dict(visible=True, range=[0, radar_data['Number of Households'].max()])\n",
    "    )\n",
    ")\n",
    "\n",
    "fig.show()\n"
   ]
  },
  {
   "cell_type": "code",
   "execution_count": 65,
   "metadata": {},
   "outputs": [
    {
     "name": "stdout",
     "output_type": "stream",
     "text": [
      "Name: nbformat\n",
      "Version: 5.10.4\n",
      "Summary: The Jupyter Notebook format\n",
      "Home-page: https://jupyter.org\n",
      "Author: \n",
      "Author-email: Jupyter Development Team <jupyter@googlegroups.com>\n",
      "License: BSD 3-Clause License\n",
      "\n",
      "- Copyright (c) 2001-2015, IPython Development Team\n",
      "- Copyright (c) 2015-, Jupyter Development Team\n",
      "\n",
      "All rights reserved.\n",
      "\n",
      "Redistribution and use in source and binary forms, with or without\n",
      "modification, are permitted provided that the following conditions are met:\n",
      "\n",
      "1. Redistributions of source code must retain the above copyright notice, this\n",
      "   list of conditions and the following disclaimer.\n",
      "\n",
      "2. Redistributions in binary form must reproduce the above copyright notice,\n",
      "   this list of conditions and the following disclaimer in the documentation\n",
      "   and/or other materials provided with the distribution.\n",
      "\n",
      "3. Neither the name of the copyright holder nor the names of its\n",
      "   contributors may be used to endorse or promote products derived from\n",
      "   this software without specific prior written permission.\n",
      "\n",
      "THIS SOFTWARE IS PROVIDED BY THE COPYRIGHT HOLDERS AND CONTRIBUTORS \"AS IS\"\n",
      "AND ANY EXPRESS OR IMPLIED WARRANTIES, INCLUDING, BUT NOT LIMITED TO, THE\n",
      "IMPLIED WARRANTIES OF MERCHANTABILITY AND FITNESS FOR A PARTICULAR PURPOSE ARE\n",
      "DISCLAIMED. IN NO EVENT SHALL THE COPYRIGHT HOLDER OR CONTRIBUTORS BE LIABLE\n",
      "FOR ANY DIRECT, INDIRECT, INCIDENTAL, SPECIAL, EXEMPLARY, OR CONSEQUENTIAL\n",
      "DAMAGES (INCLUDING, BUT NOT LIMITED TO, PROCUREMENT OF SUBSTITUTE GOODS OR\n",
      "SERVICES; LOSS OF USE, DATA, OR PROFITS; OR BUSINESS INTERRUPTION) HOWEVER\n",
      "CAUSED AND ON ANY THEORY OF LIABILITY, WHETHER IN CONTRACT, STRICT LIABILITY,\n",
      "OR TORT (INCLUDING NEGLIGENCE OR OTHERWISE) ARISING IN ANY WAY OUT OF THE USE\n",
      "OF THIS SOFTWARE, EVEN IF ADVISED OF THE POSSIBILITY OF SUCH DAMAGE.\n",
      "Location: C:\\Users\\varni\\miniconda3\\envs\\myenv\\Lib\\site-packages\n",
      "Requires: fastjsonschema, jsonschema, jupyter-core, traitlets\n",
      "Required-by: \n"
     ]
    }
   ],
   "source": [
    "!pip show nbformat\n"
   ]
  },
  {
   "cell_type": "code",
   "execution_count": null,
   "metadata": {},
   "outputs": [],
   "source": []
  }
 ],
 "metadata": {
  "kernelspec": {
   "display_name": "myenv",
   "language": "python",
   "name": "python3"
  },
  "language_info": {
   "codemirror_mode": {
    "name": "ipython",
    "version": 3
   },
   "file_extension": ".py",
   "mimetype": "text/x-python",
   "name": "python",
   "nbconvert_exporter": "python",
   "pygments_lexer": "ipython3",
   "version": "3.12.7"
  }
 },
 "nbformat": 4,
 "nbformat_minor": 2
}
